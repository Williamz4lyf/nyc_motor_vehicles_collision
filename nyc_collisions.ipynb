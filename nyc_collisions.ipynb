{
 "cells": [
  {
   "cell_type": "markdown",
   "id": "1dbdd9f99645df54",
   "metadata": {
    "collapsed": false
   },
   "source": [
    "# Motor Vehicle Collisions"
   ]
  },
  {
   "cell_type": "markdown",
   "id": "ed4051f4a6f4872",
   "metadata": {
    "collapsed": false
   },
   "source": [
    "### Load the Workspace"
   ]
  },
  {
   "cell_type": "code",
   "execution_count": 1,
   "id": "initial_id",
   "metadata": {
    "ExecuteTime": {
     "end_time": "2023-11-04T09:11:37.029845Z",
     "start_time": "2023-11-04T09:11:35.812950Z"
    },
    "collapsed": true
   },
   "outputs": [],
   "source": [
    "import re\n",
    "import datetime as dt\n",
    "import time\n",
    "from zipfile import ZipFile\n",
    "\n",
    "import pandas as pd\n",
    "import numpy as np\n",
    "import matplotlib.pyplot as plt\n",
    "import matplotlib as mpl\n",
    "import seaborn as sns\n",
    "from wordcloud import WordCloud\n",
    "\n",
    "from scipy import stats\n",
    "import statsmodels.formula.api as smf\n",
    "from statsmodels.tsa.seasonal import seasonal_decompose, DecomposeResult\n",
    "from statsmodels.tsa.holtwinters import ExponentialSmoothing\n",
    "\n",
    "from sklearn.metrics import mean_squared_error\n",
    "from sklearn.model_selection import train_test_split\n",
    "from sklearn.linear_model import LinearRegression\n",
    "from pmdarima import auto_arima"
   ]
  },
  {
   "cell_type": "markdown",
   "id": "e995a1b177552fc",
   "metadata": {
    "collapsed": false
   },
   "source": [
    "### Load the dataset"
   ]
  },
  {
   "cell_type": "code",
   "execution_count": 2,
   "id": "7029bc64573a86fb",
   "metadata": {
    "ExecuteTime": {
     "end_time": "2023-11-04T09:12:09.384250Z",
     "start_time": "2023-11-04T09:11:36.742529Z"
    },
    "collapsed": false
   },
   "outputs": [],
   "source": [
    "with ZipFile('nyc_collisions.csv.zip', 'r') as zip_file:\n",
    "    with zip_file.open('nyc_collisions.csv') as file:\n",
    "        df = pd.read_csv(file, low_memory=False)"
   ]
  },
  {
   "cell_type": "code",
   "execution_count": 3,
   "id": "7b2ab850727da2b3",
   "metadata": {
    "ExecuteTime": {
     "end_time": "2023-11-04T09:12:18.188308Z",
     "start_time": "2023-11-04T09:12:09.368437Z"
    },
    "collapsed": false
   },
   "outputs": [
    {
     "data": {
      "text/html": [
       "<div>\n",
       "<style scoped>\n",
       "    .dataframe tbody tr th:only-of-type {\n",
       "        vertical-align: middle;\n",
       "    }\n",
       "\n",
       "    .dataframe tbody tr th {\n",
       "        vertical-align: top;\n",
       "    }\n",
       "\n",
       "    .dataframe thead th {\n",
       "        text-align: right;\n",
       "    }\n",
       "</style>\n",
       "<table border=\"1\" class=\"dataframe\">\n",
       "  <thead>\n",
       "    <tr style=\"text-align: right;\">\n",
       "      <th></th>\n",
       "      <th>collision_id</th>\n",
       "      <th>borough</th>\n",
       "      <th>zip_code</th>\n",
       "      <th>latitude</th>\n",
       "      <th>longitude</th>\n",
       "      <th>person_type</th>\n",
       "      <th>person_sex</th>\n",
       "      <th>person_injury</th>\n",
       "      <th>person_age</th>\n",
       "      <th>state_registration</th>\n",
       "      <th>...</th>\n",
       "      <th>number_of_pedestrians_injured</th>\n",
       "      <th>number_of_pedestrians_killed</th>\n",
       "      <th>number_of_cyclist_injured</th>\n",
       "      <th>number_of_cyclist_killed</th>\n",
       "      <th>number_of_motorist_injured</th>\n",
       "      <th>number_of_motorist_killed</th>\n",
       "      <th>ejection</th>\n",
       "      <th>emotional_status</th>\n",
       "      <th>bodily_injury</th>\n",
       "      <th>position_in_vehicle</th>\n",
       "    </tr>\n",
       "    <tr>\n",
       "      <th>crash_datetime</th>\n",
       "      <th></th>\n",
       "      <th></th>\n",
       "      <th></th>\n",
       "      <th></th>\n",
       "      <th></th>\n",
       "      <th></th>\n",
       "      <th></th>\n",
       "      <th></th>\n",
       "      <th></th>\n",
       "      <th></th>\n",
       "      <th></th>\n",
       "      <th></th>\n",
       "      <th></th>\n",
       "      <th></th>\n",
       "      <th></th>\n",
       "      <th></th>\n",
       "      <th></th>\n",
       "      <th></th>\n",
       "      <th></th>\n",
       "      <th></th>\n",
       "      <th></th>\n",
       "    </tr>\n",
       "  </thead>\n",
       "  <tbody>\n",
       "    <tr>\n",
       "      <th>2012-07-01 00:30:00</th>\n",
       "      <td>5292</td>\n",
       "      <td>Manhattan</td>\n",
       "      <td>10007</td>\n",
       "      <td>40.714678</td>\n",
       "      <td>-74.005887</td>\n",
       "      <td>Occupant</td>\n",
       "      <td>U</td>\n",
       "      <td>Injured</td>\n",
       "      <td>31</td>\n",
       "      <td>NY</td>\n",
       "      <td>...</td>\n",
       "      <td>0</td>\n",
       "      <td>0</td>\n",
       "      <td>0</td>\n",
       "      <td>0</td>\n",
       "      <td>1</td>\n",
       "      <td>0</td>\n",
       "      <td>NaN</td>\n",
       "      <td>NaN</td>\n",
       "      <td>NaN</td>\n",
       "      <td>NaN</td>\n",
       "    </tr>\n",
       "    <tr>\n",
       "      <th>2012-07-01 00:30:00</th>\n",
       "      <td>5292</td>\n",
       "      <td>Manhattan</td>\n",
       "      <td>10007</td>\n",
       "      <td>40.714678</td>\n",
       "      <td>-74.005887</td>\n",
       "      <td>Occupant</td>\n",
       "      <td>U</td>\n",
       "      <td>Injured</td>\n",
       "      <td>31</td>\n",
       "      <td>NJ</td>\n",
       "      <td>...</td>\n",
       "      <td>0</td>\n",
       "      <td>0</td>\n",
       "      <td>0</td>\n",
       "      <td>0</td>\n",
       "      <td>1</td>\n",
       "      <td>0</td>\n",
       "      <td>NaN</td>\n",
       "      <td>NaN</td>\n",
       "      <td>NaN</td>\n",
       "      <td>NaN</td>\n",
       "    </tr>\n",
       "    <tr>\n",
       "      <th>2012-07-01 00:37:00</th>\n",
       "      <td>37633</td>\n",
       "      <td>Manhattan</td>\n",
       "      <td>10017</td>\n",
       "      <td>40.755924</td>\n",
       "      <td>-73.974889</td>\n",
       "      <td>Occupant</td>\n",
       "      <td>U</td>\n",
       "      <td>Injured</td>\n",
       "      <td>36</td>\n",
       "      <td>NY</td>\n",
       "      <td>...</td>\n",
       "      <td>0</td>\n",
       "      <td>0</td>\n",
       "      <td>0</td>\n",
       "      <td>0</td>\n",
       "      <td>1</td>\n",
       "      <td>0</td>\n",
       "      <td>NaN</td>\n",
       "      <td>NaN</td>\n",
       "      <td>NaN</td>\n",
       "      <td>NaN</td>\n",
       "    </tr>\n",
       "    <tr>\n",
       "      <th>2012-07-01 00:37:00</th>\n",
       "      <td>37633</td>\n",
       "      <td>Manhattan</td>\n",
       "      <td>10017</td>\n",
       "      <td>40.755924</td>\n",
       "      <td>-73.974889</td>\n",
       "      <td>Occupant</td>\n",
       "      <td>U</td>\n",
       "      <td>Injured</td>\n",
       "      <td>36</td>\n",
       "      <td>NJ</td>\n",
       "      <td>...</td>\n",
       "      <td>0</td>\n",
       "      <td>0</td>\n",
       "      <td>0</td>\n",
       "      <td>0</td>\n",
       "      <td>1</td>\n",
       "      <td>0</td>\n",
       "      <td>NaN</td>\n",
       "      <td>NaN</td>\n",
       "      <td>NaN</td>\n",
       "      <td>NaN</td>\n",
       "    </tr>\n",
       "    <tr>\n",
       "      <th>2012-07-01 01:00:00</th>\n",
       "      <td>85161</td>\n",
       "      <td>Bronx</td>\n",
       "      <td>10456</td>\n",
       "      <td>40.828729</td>\n",
       "      <td>-73.914723</td>\n",
       "      <td>Occupant</td>\n",
       "      <td>U</td>\n",
       "      <td>Injured</td>\n",
       "      <td>36</td>\n",
       "      <td>NY</td>\n",
       "      <td>...</td>\n",
       "      <td>0</td>\n",
       "      <td>0</td>\n",
       "      <td>0</td>\n",
       "      <td>0</td>\n",
       "      <td>1</td>\n",
       "      <td>0</td>\n",
       "      <td>NaN</td>\n",
       "      <td>NaN</td>\n",
       "      <td>NaN</td>\n",
       "      <td>NaN</td>\n",
       "    </tr>\n",
       "  </tbody>\n",
       "</table>\n",
       "<p>5 rows × 40 columns</p>\n",
       "</div>"
      ],
      "text/plain": [
       "                     collision_id    borough  zip_code   latitude  longitude  \\\n",
       "crash_datetime                                                                 \n",
       "2012-07-01 00:30:00          5292  Manhattan     10007  40.714678 -74.005887   \n",
       "2012-07-01 00:30:00          5292  Manhattan     10007  40.714678 -74.005887   \n",
       "2012-07-01 00:37:00         37633  Manhattan     10017  40.755924 -73.974889   \n",
       "2012-07-01 00:37:00         37633  Manhattan     10017  40.755924 -73.974889   \n",
       "2012-07-01 01:00:00         85161      Bronx     10456  40.828729 -73.914723   \n",
       "\n",
       "                    person_type person_sex person_injury  person_age  \\\n",
       "crash_datetime                                                         \n",
       "2012-07-01 00:30:00    Occupant          U       Injured          31   \n",
       "2012-07-01 00:30:00    Occupant          U       Injured          31   \n",
       "2012-07-01 00:37:00    Occupant          U       Injured          36   \n",
       "2012-07-01 00:37:00    Occupant          U       Injured          36   \n",
       "2012-07-01 01:00:00    Occupant          U       Injured          36   \n",
       "\n",
       "                    state_registration  ... number_of_pedestrians_injured  \\\n",
       "crash_datetime                          ...                                 \n",
       "2012-07-01 00:30:00                 NY  ...                             0   \n",
       "2012-07-01 00:30:00                 NJ  ...                             0   \n",
       "2012-07-01 00:37:00                 NY  ...                             0   \n",
       "2012-07-01 00:37:00                 NJ  ...                             0   \n",
       "2012-07-01 01:00:00                 NY  ...                             0   \n",
       "\n",
       "                     number_of_pedestrians_killed number_of_cyclist_injured  \\\n",
       "crash_datetime                                                                \n",
       "2012-07-01 00:30:00                             0                         0   \n",
       "2012-07-01 00:30:00                             0                         0   \n",
       "2012-07-01 00:37:00                             0                         0   \n",
       "2012-07-01 00:37:00                             0                         0   \n",
       "2012-07-01 01:00:00                             0                         0   \n",
       "\n",
       "                     number_of_cyclist_killed number_of_motorist_injured  \\\n",
       "crash_datetime                                                             \n",
       "2012-07-01 00:30:00                         0                          1   \n",
       "2012-07-01 00:30:00                         0                          1   \n",
       "2012-07-01 00:37:00                         0                          1   \n",
       "2012-07-01 00:37:00                         0                          1   \n",
       "2012-07-01 01:00:00                         0                          1   \n",
       "\n",
       "                    number_of_motorist_killed ejection emotional_status  \\\n",
       "crash_datetime                                                            \n",
       "2012-07-01 00:30:00                         0      NaN              NaN   \n",
       "2012-07-01 00:30:00                         0      NaN              NaN   \n",
       "2012-07-01 00:37:00                         0      NaN              NaN   \n",
       "2012-07-01 00:37:00                         0      NaN              NaN   \n",
       "2012-07-01 01:00:00                         0      NaN              NaN   \n",
       "\n",
       "                    bodily_injury position_in_vehicle  \n",
       "crash_datetime                                         \n",
       "2012-07-01 00:30:00           NaN                 NaN  \n",
       "2012-07-01 00:30:00           NaN                 NaN  \n",
       "2012-07-01 00:37:00           NaN                 NaN  \n",
       "2012-07-01 00:37:00           NaN                 NaN  \n",
       "2012-07-01 01:00:00           NaN                 NaN  \n",
       "\n",
       "[5 rows x 40 columns]"
      ]
     },
     "execution_count": 3,
     "metadata": {},
     "output_type": "execute_result"
    }
   ],
   "source": [
    "df.columns = df.columns.str.lower().str.replace(' ', '_')\n",
    "\n",
    "df = df.assign(\n",
    "    borough=lambda x: x.borough.str.title(),\n",
    "    crash_datetime=lambda x: pd.to_datetime(x.crash_datetime),\n",
    "    zip_code=lambda x: x.zip_code.str.strip(),\n",
    "    person_sex=lambda x: x.person_sex.fillna('U'),\n",
    "    state_registration=lambda x: x.state_registration.fillna(x.state_registration.mode()),\n",
    "    vehicle_type=lambda x: x.vehicle_type.str.title(),\n",
    "    travel_direction=lambda x: x.travel_direction.map({\n",
    "        'N':'North', 'S':'South', 'E':'East', 'W':'West',\n",
    "        '-':'Unknown', 'U':'Unknown'\n",
    "    }).fillna(x.travel_direction).fillna('Unknown')\n",
    ")\n",
    "    \n",
    "df = df.drop(\n",
    "    index=list(df.loc[df.zip_code==''].index)\n",
    ").assign(\n",
    "    zip_code=lambda x: x.zip_code.astype(int)\n",
    ")\n",
    "\n",
    "df.head()"
   ]
  },
  {
   "cell_type": "code",
   "execution_count": 4,
   "id": "6d0355374b1fa611",
   "metadata": {
    "ExecuteTime": {
     "end_time": "2023-11-04T09:12:30.021952Z",
     "start_time": "2023-11-04T09:12:18.108835Z"
    },
    "collapsed": false
   },
   "outputs": [],
   "source": [
    "vehicle_type_map = [\n",
    "    (['Sport Utility / Station Wagon', 'Multi-Wheeled Vehicle', 'Wagon', 'Suv', 'Subur', 'Subn', 'Subn/', 'Jeep'], 'Station Wagon/Sport Utility Vehicle'),\n",
    "    (['Tractor Truck Gasoline', 'Tractor Truck Diesel', 'Bulk Agriculture', 'Tract', 'Trac', 'Tractor', 'Tractor Tr', 'Ems', 'Emt'], 'Tractor Truck'),\n",
    "    (['4 Dr Sedan', '2 Dr Sedan', 'Motor', 'Stree', 'Self', '4Dr', '3-Door', '3 Whe', '4Ds', '4D'], 'Sedan'), \n",
    "    (['E-Sco', 'Electric S', 'E Sco', 'Escooter', 'E Scooter'], 'E-Scooter'),\n",
    "    (['E-Bik', 'Elect', 'E Bik', 'Ebike', 'Elec'], 'E-bike'),\n",
    "    (['Limo', 'Limou'], 'Limousine'),\n",
    "    (['Schoo'], 'School Bus'),\n",
    "    (['Firet', 'Firetruck', 'Fire', 'Fdny', 'Fdny Truck', 'Fdny Fire', 'Fdny Engin', 'Fdny Ambul', 'Fd Truck', 'Nyc F', 'Fdny Ems', 'Fdny Ladde', 'Fd Tr', 'Fire Engin', 'Ladder Tru', 'Nyfd', 'Firtruck', 'Fdny #226', 'Fdny Firet', 'Fdny Rig', 'Ladder'], 'Fire Truck'),\n",
    "    (['Bike', 'Minibike', 'Minicycle'], 'Bicycle'),\n",
    "    (['Ambul', 'Ambu', 'Amb', 'Ambulence', 'Nys Ambula', 'Nyc Ambula', 'Nyc A', 'Ambulace', 'Embulance'], 'Ambulance'),\n",
    "    (['Pk', 'Pick', 'Picku', 'Ford', 'Pick Up', 'Pickup', 'Pick Up Tr', 'Pickup', 'Pick-', 'Pickup Tru', 'Pick-Up Tr'], 'Pick-Up Truck'),\n",
    "    (['Dump', 'Garbage Or Refuse', 'Dump Truck', 'Sanit', 'Garba', 'Dumps', 'Garbage Tr', 'Sanitation', 'G Tow', 'Dumpt', 'Nyc Sanita'], 'Garbage Truck'),\n",
    "    (['Flat Bed', 'Stake Or Rack', 'Open Body', 'Flat Rack', 'Flat', 'Flatbed', 'Flatb'], 'Flatbed Truck'),\n",
    "    (['Livery Vehicle', 'Pedicab'], 'Taxi'),\n",
    "    (['Tow Truck / Wrecker', 'Tow T', 'Tow', 'Tower'], 'Tow Truck'),\n",
    "    (['Small Com Veh(4 Tires)', 'Chassis Cab', 'Usps', 'Deliv', 'Comme', 'Com', 'Comm', 'Delv', 'Utili', 'Pickup With Mounted Camper', 'Util', 'Posta', 'Us Po', 'Mail', 'Usps Truck', 'Glass Rack', 'Livestock Rack', 'Postal Tru', 'Nyc D', 'Delivery T', 'Mail Truck', 'Us Postal', 'Delivery', 'Fedex', 'Commercial', 'Utility Tr', 'Com T', 'Comer', 'Usps Mail', 'Fedex Truc', 'Usp M', 'Ups'], 'Medium Duty Commercial Truck'),\n",
    "    (['Large Com Veh(6 Or More Tires)', 'Forkl', 'Mack', 'Power', 'Freig', 'Fork','Cargo', 'Forklift', 'Uhaul', 'Power Shov', 'Semi', 'Semi-', 'U-Hau', 'Fork Lift', '18 Wh', '8X20', 'Movin', 'Uhual', 'Semitraile'], 'Heavy Duty Commercial Truck'),\n",
    "    (['Trail', 'Trailer', 'Trl', 'Trlr', 'Trailor', 'Tlr'], 'Trailer Truck'),\n",
    "    (['Lift Boom', 'Boom'], 'Boom Lift'),\n",
    "    (['Scoot', 'Pallet', 'Scoo', 'Scotter', 'Gas Scoote'], 'Scooter'),\n",
    "    (['Box T', 'Box', 'Boxtr'], 'Box Truck'),\n",
    "    (['Pas', 'Pass', 'Pas V', 'Passe'], 'Passenger Vehicle'),\n",
    "    (['Tanker', 'Tank'], 'Tanker Truck'),\n",
    "    (['Beverage Truck', 'Lunch Wagon', 'Food', 'Food Cart'], 'Food Truck'),\n",
    "    (['Trk', 'Tk', 'Vehicle Tr', 'Truck Van', 'Track'], 'Truck'),\n",
    "    (['Rv', 'Motorized Home', 'Motor Home'], 'RV'),\n",
    "    (['Van T', 'Miniv', 'Refrigerated Van', 'Van Camper', 'Refg', 'Vanette', 'Van/T', 'Refri', 'Work Van', 'Vav', 'Van Ford', 'Van Truck', 'Van F', 'Cargo Van', 'Transit Va', 'School Van', 'Vam', 'Mini Van'], 'Van'),\n",
    "    (['Mta B', 'Mta Bus', 'Omnib', 'Ems Bus'], 'Bus'),\n",
    "    (['Cemen', 'Cmix', 'Cement Tru', 'Cmixer', 'Concrete M'], 'Concrete Mixer'),\n",
    "    (['Mopd', 'Mopet'], 'Moped')\n",
    "]\n",
    "\n",
    "def map_vehicle_type(x):\n",
    "    for key_list, value in vehicle_type_map:\n",
    "        if x in key_list:\n",
    "            return value\n",
    "    return x\n",
    "\n",
    "vehicle_types = df.assign(\n",
    "    vehicle_type=lambda x: x.vehicle_type.astype(str).str.title().apply(map_vehicle_type)\n",
    ").vehicle_type.value_counts(dropna=False).iloc[:40].index.tolist()"
   ]
  },
  {
   "cell_type": "code",
   "execution_count": 5,
   "id": "bf263e93fb70428c",
   "metadata": {
    "ExecuteTime": {
     "end_time": "2023-11-04T09:13:13.761124Z",
     "start_time": "2023-11-04T09:12:30.018598Z"
    },
    "collapsed": false
   },
   "outputs": [],
   "source": [
    "df = df.assign(\n",
    "    vehicle_type=lambda x: x.vehicle_type.astype(str).str.title().apply(map_vehicle_type),\n",
    "    vehicle_year=lambda x: np.where(\n",
    "        x.vehicle_year > 2021, x.index.year, x.vehicle_year\n",
    "    ),\n",
    "    number_of_persons_injured=lambda x: x.number_of_persons_injured.fillna(0),\n",
    "    number_of_persons_killed=lambda x: x.number_of_persons_killed.fillna(0),\n",
    ").assign(\n",
    "    vehicle_type=lambda x: np.where(\n",
    "        x.vehicle_type.isin(vehicle_types),\n",
    "        x.vehicle_type, 'Other'\n",
    "    )\n",
    ").assign(\n",
    "    vehicle_type=lambda x:  x.vehicle_type.str.replace('Unknown', 'Other').str.replace('Unkno', 'Other')\n",
    ").map(lambda x: x.strip().title() if isinstance(x, str) else x)"
   ]
  },
  {
   "cell_type": "markdown",
   "metadata": {},
   "source": [
    "**Handle Duplicates & Missing Values**"
   ]
  },
  {
   "cell_type": "code",
   "execution_count": 15,
   "metadata": {},
   "outputs": [
    {
     "name": "stdout",
     "output_type": "stream",
     "text": [
      "<class 'pandas.core.frame.DataFrame'>\n",
      "RangeIndex: 2607736 entries, 0 to 2607735\n",
      "Data columns (total 40 columns):\n",
      " #   Column                         Dtype  \n",
      "---  ------                         -----  \n",
      " 0   collision_id                   int64  \n",
      " 1   borough                        object \n",
      " 2   zip_code                       int64  \n",
      " 3   latitude                       float64\n",
      " 4   longitude                      float64\n",
      " 5   person_type                    object \n",
      " 6   person_sex                     object \n",
      " 7   person_injury                  object \n",
      " 8   person_age                     int64  \n",
      " 9   state_registration             object \n",
      " 10  vehicle_type                   object \n",
      " 11  vehicle_year                   float64\n",
      " 12  travel_direction               object \n",
      " 13  vehicle_occupants              float64\n",
      " 14  driver_sex                     object \n",
      " 15  driver_license_status          object \n",
      " 16  driver_license_jurisdiction    object \n",
      " 17  pre_crash                      object \n",
      " 18  point_of_impact                object \n",
      " 19  vehicle_damage                 object \n",
      " 20  vehicle_damage_1               object \n",
      " 21  vehicle_damage_2               object \n",
      " 22  vehicle_damage_3               object \n",
      " 23  public_property_damage         object \n",
      " 24  contributing_factor_1          object \n",
      " 25  contributing_factor_2          object \n",
      " 26  on_street_name                 object \n",
      " 27  cross_street_name              object \n",
      " 28  number_of_persons_injured      int64  \n",
      " 29  number_of_persons_killed       int64  \n",
      " 30  number_of_pedestrians_injured  int64  \n",
      " 31  number_of_pedestrians_killed   int64  \n",
      " 32  number_of_cyclist_injured      int64  \n",
      " 33  number_of_cyclist_killed       int64  \n",
      " 34  number_of_motorist_injured     int64  \n",
      " 35  number_of_motorist_killed      int64  \n",
      " 36  ejection                       object \n",
      " 37  emotional_status               object \n",
      " 38  bodily_injury                  object \n",
      " 39  position_in_vehicle            object \n",
      "dtypes: float64(4), int64(11), object(25)\n",
      "memory usage: 795.8+ MB\n"
     ]
    }
   ],
   "source": [
    "# Drop duplicate records:\n",
    "drop_index = df.loc[df.duplicated(keep='first')].index\n",
    "df = df.drop(index=drop_index)\n",
    "\n",
    "# Drop records with latitude and longitide as 0 or na:\n",
    "drop_index = df.loc[df.longitude == 0].index\n",
    "df = df.drop(index=drop_index).reset_index(drop=True)\n",
    "\n",
    "drop_index = df.loc[df.longitude.isna()].index\n",
    "df = df.drop(index=drop_index).reset_index(drop=True)\n",
    "\n",
    "# Drop records with Vehicle Occupants Over 100 (outliers)\n",
    "drop_index = df.loc[df.vehicle_occupants > 100].index\n",
    "df = df.drop(index=drop_index).reset_index(drop=True)\n",
    "\n",
    "df.info()"
   ]
  },
  {
   "cell_type": "code",
   "execution_count": 16,
   "id": "f1db1ba4e62ebe1d",
   "metadata": {
    "ExecuteTime": {
     "end_time": "2023-11-04T09:13:21.607501Z",
     "start_time": "2023-11-04T09:13:18.612891Z"
    },
    "collapsed": false
   },
   "outputs": [
    {
     "data": {
      "text/plain": [
       "collision_id                           0\n",
       "borough                                0\n",
       "zip_code                               0\n",
       "latitude                               0\n",
       "longitude                              0\n",
       "person_type                            0\n",
       "person_sex                             0\n",
       "person_injury                          0\n",
       "person_age                             0\n",
       "state_registration                 77518\n",
       "vehicle_type                           0\n",
       "vehicle_year                      274428\n",
       "travel_direction                       0\n",
       "vehicle_occupants                 207149\n",
       "driver_sex                        412150\n",
       "driver_license_status             502164\n",
       "driver_license_jurisdiction       484047\n",
       "pre_crash                         104098\n",
       "point_of_impact                   191681\n",
       "vehicle_damage                    197943\n",
       "vehicle_damage_1                 1060379\n",
       "vehicle_damage_2                 1481838\n",
       "vehicle_damage_3                 1766355\n",
       "public_property_damage            166476\n",
       "contributing_factor_1              18620\n",
       "contributing_factor_2             189040\n",
       "on_street_name                         0\n",
       "cross_street_name                   3560\n",
       "number_of_persons_injured              0\n",
       "number_of_persons_killed               0\n",
       "number_of_pedestrians_injured          0\n",
       "number_of_pedestrians_killed           0\n",
       "number_of_cyclist_injured              0\n",
       "number_of_cyclist_killed               0\n",
       "number_of_motorist_injured             0\n",
       "number_of_motorist_killed              0\n",
       "ejection                          978831\n",
       "emotional_status                  953906\n",
       "bodily_injury                     953887\n",
       "position_in_vehicle               978732\n",
       "dtype: int64"
      ]
     },
     "execution_count": 16,
     "metadata": {},
     "output_type": "execute_result"
    }
   ],
   "source": [
    "df.isnull().sum()"
   ]
  },
  {
   "cell_type": "code",
   "execution_count": null,
   "metadata": {},
   "outputs": [],
   "source": [
    "df = df.set_index('crash_datetime').sort_index()\n",
    "df.head()"
   ]
  },
  {
   "cell_type": "markdown",
   "id": "9cb75a8433ee32c3",
   "metadata": {
    "collapsed": false
   },
   "source": [
    "### Exploratory Analysis\n",
    "\n",
    "We'll respond to the following questions:\n",
    "1. Which location has the most accidents?\n",
    "2. Which time has the most accidents?\n",
    "3. Which day of the week has the most accidents?\n",
    "4. Accident Trends over time\n",
    "5. How many victims on average per accident?\n",
    "6. Registration Year for cars in accidents.\n",
    "7. Using vehicle year, what is the likelihood that an accident will result in injury or death?\n",
    "8. Reasons for accidents.\n",
    "9. Which street corner / intersection is prone to accidents?\n",
    "10. Gender split for Accidents.\n",
    "11. Which vehicles contribute the most to accidents?\n",
    "12. Driver Licence jurisdictions and accidents\n",
    "13. Injured vs Killed stats\n",
    "14. Relationship between Complainant and person injured\n",
    "15. Vehicle Damage vs Vehicle Make, Vehicle Type, Registration Year, Driver Sex, Point of Impact and Travel Direction\n",
    "16. Understanding these features - Ejection, Emotional status, Bodily injury, Position in vehicle, Safety equipment, Ped role\n",
    "17. Provide recommendations to reduce the occurrence of accidents"
   ]
  },
  {
   "cell_type": "markdown",
   "id": "8068ee996e7eb99c",
   "metadata": {
    "collapsed": false
   },
   "source": [
    "Plotting Colors:"
   ]
  },
  {
   "cell_type": "code",
   "execution_count": null,
   "id": "3d484cabefa4f7c4",
   "metadata": {
    "ExecuteTime": {
     "end_time": "2023-11-04T09:13:21.609972Z",
     "start_time": "2023-11-04T09:13:21.576711Z"
    },
    "collapsed": false
   },
   "outputs": [],
   "source": [
    "deep_colors = [\n",
    "    '#4C72B0', '#55A868', '#C44E52',\n",
    "    '#8172B2', '#CCB974', '#64B5CD'\n",
    "]"
   ]
  },
  {
   "cell_type": "markdown",
   "id": "130f89f842244c4c",
   "metadata": {
    "collapsed": false
   },
   "source": [
    "1. Which location has the most accidents?\n",
    "\n",
    "We have a number of location-based features:\n",
    "* Longitude & Latitude\n",
    "* on street name & cross street name\n",
    "\n",
    "We'll begin by plotting a location-based heatmap of accidents."
   ]
  },
  {
   "cell_type": "code",
   "execution_count": null,
   "id": "12e9971020dd95c",
   "metadata": {
    "ExecuteTime": {
     "end_time": "2023-11-04T09:13:47.104094Z",
     "start_time": "2023-11-04T09:13:21.578057Z"
    },
    "collapsed": false
   },
   "outputs": [],
   "source": [
    "sns.set_palette([deep_colors[0]])\n",
    "sns.set_style(\"darkgrid\", {\"grid.alpha\": 0.2})\n",
    "\n",
    "plt.figure(figsize=(10, 8))\n",
    "sns.scatterplot(\n",
    "    data=df, x='longitude', y='latitude',\n",
    "    hue='borough', alpha=.4\n",
    ")\n",
    "plt.xlabel('Longitude')\n",
    "plt.ylabel('Latitude')\n",
    "plt.title('Plot of Motor Vehicle Accidents in NYC\\nBy Borough')\n",
    "plt.legend(loc='upper left', bbox_to_anchor=(1, 1), title=\"Borough\")\n",
    "plt.show()"
   ]
  },
  {
   "cell_type": "markdown",
   "id": "82c565eb5e805061",
   "metadata": {
    "collapsed": false
   },
   "source": [
    "Most accidents are with Licensed drivers:"
   ]
  },
  {
   "cell_type": "code",
   "execution_count": null,
   "id": "a2ce5c587e1533ea",
   "metadata": {
    "ExecuteTime": {
     "end_time": "2023-11-04T09:14:11.186748Z",
     "start_time": "2023-11-04T09:13:47.063037Z"
    },
    "collapsed": false
   },
   "outputs": [],
   "source": [
    "sns.set_palette([deep_colors[0]])\n",
    "sns.set_style(\"darkgrid\", {\"grid.alpha\": 0.2})\n",
    "\n",
    "plt.figure(figsize=(10, 8))\n",
    "sns.scatterplot(\n",
    "    data=df, x='longitude', y='latitude',\n",
    "    hue='driver_license_status', palette='rocket_r', \n",
    "    alpha=.4\n",
    ")\n",
    "plt.xlabel('Longitude')\n",
    "plt.ylabel('Latitude')\n",
    "plt.title('Plot of Motor Vehicle Accidents in Brooklyn\\nBy Driver License Status')\n",
    "plt.legend(loc='upper left', bbox_to_anchor=(1, 1), title=\"License Status\")\n",
    "plt.show()"
   ]
  },
  {
   "cell_type": "markdown",
   "id": "c378f27837f2e60",
   "metadata": {
    "collapsed": false
   },
   "source": [
    "Most accidents are by male drivers:"
   ]
  },
  {
   "cell_type": "code",
   "execution_count": null,
   "id": "90dfd007999891ef",
   "metadata": {
    "ExecuteTime": {
     "end_time": "2023-11-04T09:14:33.771654Z",
     "start_time": "2023-11-04T09:14:11.170886Z"
    },
    "collapsed": false
   },
   "outputs": [],
   "source": [
    "sns.set_palette([deep_colors[0]])\n",
    "sns.set_style(\"darkgrid\", {\"grid.alpha\": 0.2})\n",
    "\n",
    "plt.figure(figsize=(10, 8))\n",
    "sns.scatterplot(\n",
    "    data=df, x='longitude', y='latitude',\n",
    "    hue='driver_sex', palette='mako_r', \n",
    "    alpha=.4\n",
    ")\n",
    "plt.xlabel('Longitude')\n",
    "plt.ylabel('Latitude')\n",
    "plt.title('Plot of Motor Vehicle Accidents in Brooklyn\\nBy Driver Sex')\n",
    "plt.legend(loc='upper left', bbox_to_anchor=(1, 1), title=\"Driver Sex\")\n",
    "plt.show()"
   ]
  },
  {
   "cell_type": "markdown",
   "id": "32e997a2548c4872",
   "metadata": {
    "collapsed": false
   },
   "source": [
    "**Time Series Analysis on Accidents**\n",
    "\n",
    "2. Which time has the most accidents?\n",
    "3. Which day of the week has the most accidents?\n",
    "3b. Anomaly Detection—to determine when accidents are out of the ordinary\n",
    "\n",
    "The timeframe of the dataset is between 2012 and 2021."
   ]
  },
  {
   "cell_type": "markdown",
   "id": "ce16faf028a33474",
   "metadata": {
    "collapsed": false
   },
   "source": [
    "On average, accidents occur mostly in the hot months of May and June. However, the spread of average accidents between months is negligible."
   ]
  },
  {
   "cell_type": "code",
   "execution_count": null,
   "id": "1fdbf50d157d7452",
   "metadata": {
    "ExecuteTime": {
     "end_time": "2023-11-04T09:14:36.408698Z",
     "start_time": "2023-11-04T09:14:35.683985Z"
    },
    "collapsed": false
   },
   "outputs": [],
   "source": [
    "data = df.index.value_counts()\n",
    "data_mean = data.groupby(data.index.month).mean()\n",
    "\n",
    "month_mapping = {\n",
    "    1: 'Jan', 2: 'Feb', 3: 'March', 4: 'April',\n",
    "    5: 'May', 6: 'June', 7: 'July', 8: 'Aug',\n",
    "    9: 'Sept', 10: 'Oct', 11: 'Nov', 12: 'Dec'\n",
    "}\n",
    "data_mean.index = data_mean.index.map(month_mapping)\n",
    "\n",
    "plt.figure(figsize=(10, 6))\n",
    "plt.plot(data_mean.index, data_mean, marker='o', linestyle='-')\n",
    "plt.xlabel('Months')\n",
    "plt.ylabel('Accidents Count')\n",
    "plt.title('Average Number of Accidents by Month')\n",
    "plt.show()"
   ]
  },
  {
   "cell_type": "markdown",
   "id": "569dda970604f8bf",
   "metadata": {
    "collapsed": false
   },
   "source": [
    "There is a significant spike in the number of recorded accidents from 2016."
   ]
  },
  {
   "cell_type": "code",
   "execution_count": null,
   "id": "7535df75c9a395e4",
   "metadata": {
    "ExecuteTime": {
     "end_time": "2023-11-04T09:14:36.741949Z",
     "start_time": "2023-11-04T09:14:35.870945Z"
    },
    "collapsed": false
   },
   "outputs": [],
   "source": [
    "data = df.index.value_counts()\n",
    "data_mean = data.groupby(data.index.year).mean()\n",
    "\n",
    "plt.figure(figsize=(10, 6))\n",
    "plt.plot(data_mean.index, data_mean, marker='o', linestyle='-')\n",
    "plt.xlabel('Years')\n",
    "plt.ylabel('Accidents Count')\n",
    "plt.title('Average Number of Accidents by Year')\n",
    "plt.show()"
   ]
  },
  {
   "cell_type": "markdown",
   "id": "2826660f38811e",
   "metadata": {
    "collapsed": false
   },
   "source": [
    "On average most accidents occur in the middle of the month."
   ]
  },
  {
   "cell_type": "code",
   "execution_count": null,
   "id": "87b349d911d8ca02",
   "metadata": {
    "ExecuteTime": {
     "end_time": "2023-11-04T09:14:36.742935Z",
     "start_time": "2023-11-04T09:14:36.036241Z"
    },
    "collapsed": false
   },
   "outputs": [],
   "source": [
    "data = df.index.value_counts()\n",
    "data_mean = data.groupby(data.index.day).mean()\n",
    "\n",
    "plt.figure(figsize=(10, 6))\n",
    "plt.plot(data_mean.index, data_mean, marker='o', linestyle='-')\n",
    "plt.xlabel('Days')\n",
    "plt.ylabel('Accidents Count')\n",
    "plt.title('Average Number of Accidents by Day')\n",
    "plt.show()"
   ]
  },
  {
   "cell_type": "markdown",
   "id": "fac083b0c29669b7",
   "metadata": {
    "collapsed": false
   },
   "source": [
    "Most accidents occur at midnight:"
   ]
  },
  {
   "cell_type": "code",
   "execution_count": null,
   "id": "caebb2c1a78a5a27",
   "metadata": {
    "ExecuteTime": {
     "end_time": "2023-11-04T09:14:36.779603Z",
     "start_time": "2023-11-04T09:14:36.198502Z"
    },
    "collapsed": false
   },
   "outputs": [],
   "source": [
    "data = df.index.value_counts()\n",
    "data_mean = data.groupby(data.index.hour).mean()\n",
    "\n",
    "plt.figure(figsize=(10, 6))\n",
    "plt.plot(data_mean.index, data_mean, marker='o', linestyle='-')\n",
    "plt.xlabel('Hours')\n",
    "plt.ylabel('Accidents Count')\n",
    "plt.title('Average Number of Accidents by Hour')\n",
    "plt.show()"
   ]
  },
  {
   "cell_type": "markdown",
   "id": "5d05a165dcb7f836",
   "metadata": {
    "collapsed": false
   },
   "source": [
    "**Anomaly Detection**\n",
    "\n",
    "Anomaly detection in time series data is the process of identifying data points or patterns that deviate significantly from the expected or normal behavior. Anomalies, also known as outliers, can indicate errors, unusual events, or important insights.\n",
    "\n",
    "We'll be using the following techniques to perform anomaly detection on our data:\n",
    "* Seasonal Decomposition\n",
    "* Statistical Methods (Z-Score)\n",
    "* Moving Average\n",
    "* Exponential Smoothing"
   ]
  },
  {
   "cell_type": "markdown",
   "id": "c9b4f3f1c3db1bb2",
   "metadata": {
    "collapsed": false
   },
   "source": [
    "Seasonal Decomposition: \n",
    "\n",
    "Here, we'll decompose the time series into trend, seasonality, and residual components. Anomalies might appear as extreme values in the residual component."
   ]
  },
  {
   "cell_type": "code",
   "execution_count": null,
   "id": "499339d9751a1721",
   "metadata": {
    "ExecuteTime": {
     "end_time": "2023-11-04T20:18:16.441125Z",
     "start_time": "2023-11-04T20:18:15.961721Z"
    },
    "collapsed": false
   },
   "outputs": [],
   "source": [
    "data = df.index.value_counts()\n",
    "data.head()"
   ]
  },
  {
   "cell_type": "markdown",
   "id": "97d4751e2f4da30f",
   "metadata": {
    "collapsed": false
   },
   "source": [
    "Time Series Plot:"
   ]
  },
  {
   "cell_type": "code",
   "execution_count": null,
   "id": "e45fa9ae2aeceb4d",
   "metadata": {
    "ExecuteTime": {
     "end_time": "2023-11-04T09:14:37.280551Z",
     "start_time": "2023-11-04T09:14:36.364619Z"
    },
    "collapsed": false
   },
   "outputs": [],
   "source": [
    "sns.lineplot(x='crash_datetime', y='count', data=data.reset_index())\n",
    "plt.xlabel('Date')\n",
    "plt.ylabel('Accidents Count')\n",
    "plt.title('Time Series Plot of Accidents')\n",
    "plt.show()"
   ]
  },
  {
   "cell_type": "markdown",
   "id": "760714f885a80ddf",
   "metadata": {
    "collapsed": false
   },
   "source": [
    "Decompose the time series into its trend, seasonality, and residual components:"
   ]
  },
  {
   "cell_type": "code",
   "execution_count": null,
   "id": "9421d7b36eaaa907",
   "metadata": {
    "ExecuteTime": {
     "end_time": "2023-11-04T09:14:37.281029Z",
     "start_time": "2023-11-04T09:14:37.058623Z"
    },
    "collapsed": false
   },
   "outputs": [],
   "source": [
    "data = data.asfreq('D').bfill()\n",
    "\n",
    "decomposition = seasonal_decompose(data, model='additive')\n",
    "trend = decomposition.trend\n",
    "seasonal = decomposition.seasonal\n",
    "residual = decomposition.resid"
   ]
  },
  {
   "cell_type": "code",
   "execution_count": null,
   "id": "a8adf9eb78ba44e3",
   "metadata": {
    "collapsed": false
   },
   "outputs": [],
   "source": [
    "# Plot the original time series\n",
    "plt.figure(figsize=(12, 8))\n",
    "plt.subplot(411)\n",
    "plt.plot(data, label='Original', color=deep_colors[0])\n",
    "plt.legend(loc='upper left')\n",
    "plt.title('Original Time Series')\n",
    "\n",
    "# Plot the trend component\n",
    "plt.subplot(412)\n",
    "plt.plot(decomposition.trend, label='Trend', color=deep_colors[1])\n",
    "plt.legend(loc='upper left')\n",
    "plt.title('Trend Component')\n",
    "\n",
    "# Plot the seasonal component\n",
    "plt.subplot(413)\n",
    "plt.plot(decomposition.seasonal, label='Seasonal', color=deep_colors[2])\n",
    "plt.legend(loc='upper left')\n",
    "plt.title('Seasonal Component')\n",
    "\n",
    "# Plot the residual component\n",
    "plt.subplot(414)\n",
    "plt.plot(decomposition.resid, label='Residual', color=deep_colors[3])\n",
    "plt.legend(loc='upper left')\n",
    "plt.title('Residual Component')\n",
    "\n",
    "plt.tight_layout()\n",
    "plt.show()"
   ]
  },
  {
   "cell_type": "markdown",
   "id": "426a31739b0450a8",
   "metadata": {
    "collapsed": false
   },
   "source": [
    "Deep dive into seasonality:"
   ]
  },
  {
   "cell_type": "code",
   "execution_count": null,
   "id": "40ed34b59b3294b1",
   "metadata": {
    "ExecuteTime": {
     "end_time": "2023-11-04T09:14:40.098668Z",
     "start_time": "2023-11-04T09:14:39.557201Z"
    },
    "collapsed": false
   },
   "outputs": [],
   "source": [
    "plt.figure(figsize=(12, 5))\n",
    "decomposition.seasonal[\"2019\":\"2020\"].plot();"
   ]
  },
  {
   "cell_type": "code",
   "execution_count": null,
   "id": "1b432d3a584528db",
   "metadata": {
    "ExecuteTime": {
     "end_time": "2023-11-04T09:14:40.099667Z",
     "start_time": "2023-11-04T09:14:40.042426Z"
    },
    "collapsed": false
   },
   "outputs": [],
   "source": [
    "year = 2015\n",
    "months_to_select = [1, 2, 3]  \n",
    "\n",
    "selected_data = seasonal[(seasonal.index.year == year) & (seasonal.index.month.isin(months_to_select))]\n",
    "\n",
    "plt.figure(figsize=(10, 6))\n",
    "plt.plot(selected_data, label='Seasonal')\n",
    "plt.xlabel('Date')\n",
    "plt.title(f'Seasonal Trends for {year} - Jan, Feb, & March')\n",
    "plt.legend(loc='upper left')\n",
    "plt.show()"
   ]
  },
  {
   "cell_type": "markdown",
   "id": "99d358ea9f4da771",
   "metadata": {
    "collapsed": false
   },
   "source": [
    "When the seasonal plot is reduced to its lowest form, it shows a weekly spike and subsequent drop in accidents:"
   ]
  },
  {
   "cell_type": "code",
   "execution_count": null,
   "id": "9460570bbbb9b7e8",
   "metadata": {
    "ExecuteTime": {
     "end_time": "2023-11-04T09:14:40.542807Z",
     "start_time": "2023-11-04T09:14:40.043994Z"
    },
    "collapsed": false
   },
   "outputs": [],
   "source": [
    "year = 2019\n",
    "months_to_select = [5]\n",
    "\n",
    "selected_data = seasonal[(seasonal.index.year == year) & (seasonal.index.month.isin(months_to_select))]\n",
    "\n",
    "plt.figure(figsize=(10, 6))\n",
    "plt.plot(selected_data, label='Seasonal')\n",
    "plt.xlabel('Date')\n",
    "plt.title(f'Seasonal Trends for {year} - May')\n",
    "plt.legend(loc='upper left')\n",
    "plt.show()"
   ]
  },
  {
   "cell_type": "markdown",
   "id": "666aba4720aaed2a",
   "metadata": {
    "collapsed": false
   },
   "source": [
    "Let's compute decomposition by Borough:"
   ]
  },
  {
   "cell_type": "code",
   "execution_count": null,
   "id": "1d988a4bb6d50fc7",
   "metadata": {
    "ExecuteTime": {
     "end_time": "2023-11-04T09:14:55.980383Z",
     "start_time": "2023-11-04T09:14:40.422656Z"
    },
    "collapsed": false
   },
   "outputs": [],
   "source": [
    "print(df.loc[df.borough=='Brooklyn'].index.value_counts().shape, df.loc[df.borough=='Bronx'].index.value_counts().shape, df.loc[df.borough=='Staten Island'].index.value_counts().shape)"
   ]
  },
  {
   "cell_type": "code",
   "execution_count": null,
   "id": "ddbe2ce3172189de",
   "metadata": {
    "ExecuteTime": {
     "end_time": "2023-11-04T09:15:13.062527Z",
     "start_time": "2023-11-04T09:14:56.145157Z"
    },
    "collapsed": false
   },
   "outputs": [],
   "source": [
    "seasonality_dict = dict()\n",
    "trend_dict = dict()\n",
    "resid_dict = dict()\n",
    "\n",
    "for bor in df.borough.unique():\n",
    "    data = df.loc[df.borough==bor].index.value_counts().asfreq(freq='D').bfill().sort_index()\n",
    "    \n",
    "    decomposition = seasonal_decompose(data.dropna())\n",
    "    seasonality_dict[bor] = decomposition.seasonal\n",
    "    trend_dict[bor] = decomposition.trend\n",
    "    resid_dict[bor] = decomposition.resid"
   ]
  },
  {
   "cell_type": "markdown",
   "id": "d1f49be75418ae7a",
   "metadata": {
    "collapsed": false
   },
   "source": [
    "Let's plot the seasonality by Borough:"
   ]
  },
  {
   "cell_type": "code",
   "execution_count": null,
   "id": "1e62bb933ac77116",
   "metadata": {
    "ExecuteTime": {
     "end_time": "2023-11-04T20:21:38.343047Z",
     "start_time": "2023-11-04T20:21:35.657625Z"
    },
    "collapsed": false
   },
   "outputs": [],
   "source": [
    "pd.DataFrame(seasonality_dict).fillna(0).plot(\n",
    "    subplots=True, layout=(3, 2), linewidth=.5, figsize=(10, 10), title='Seasonality by Boroughs'\n",
    ");"
   ]
  },
  {
   "cell_type": "markdown",
   "id": "a0cdc862ae2e8527",
   "metadata": {
    "collapsed": false
   },
   "source": [
    "Let's plot the trend by Borough:"
   ]
  },
  {
   "cell_type": "code",
   "execution_count": null,
   "id": "fcf7b8869c83f2f9",
   "metadata": {
    "ExecuteTime": {
     "end_time": "2023-11-04T20:20:58.702745Z",
     "start_time": "2023-11-04T20:20:55.968418Z"
    },
    "collapsed": false
   },
   "outputs": [],
   "source": [
    "pd.DataFrame(trend_dict).fillna(0).plot(\n",
    "    subplots=True, layout=(3, 2), linewidth=.5, figsize=(10, 10), title='Trends by Boroughs'\n",
    ");"
   ]
  },
  {
   "cell_type": "markdown",
   "id": "fc4520e45d7ecda4",
   "metadata": {
    "collapsed": false
   },
   "source": [
    "Let's plot the noise by Borough:"
   ]
  },
  {
   "cell_type": "code",
   "execution_count": null,
   "id": "cdc8ff607ea037ca",
   "metadata": {
    "ExecuteTime": {
     "end_time": "2023-11-04T20:21:15.815118Z",
     "start_time": "2023-11-04T20:21:13.705887Z"
    },
    "collapsed": false
   },
   "outputs": [],
   "source": [
    "pd.DataFrame(resid_dict).fillna(0).plot(\n",
    "    subplots=True, layout=(3, 2), linewidth=.5, figsize=(10, 10), title='Noise by Boroughs'\n",
    ");"
   ]
  },
  {
   "cell_type": "markdown",
   "id": "e702dc4aea702f6d",
   "metadata": {
    "collapsed": false
   },
   "source": [
    "Anomaly Detection Using Statistical Methods:\n",
    "\n",
    "We'll calculate the z-score for each data point and identify anomalies by setting a z-score threshold."
   ]
  },
  {
   "cell_type": "code",
   "execution_count": null,
   "metadata": {},
   "outputs": [],
   "source": [
    "data = pd.DataFrame({'accidents_count': df.index.value_counts(), 'z_score':stats.zscore(df.index.value_counts().values)})\n",
    "data.head()"
   ]
  },
  {
   "cell_type": "code",
   "execution_count": null,
   "id": "c641d714edabe9a3",
   "metadata": {
    "ExecuteTime": {
     "end_time": "2023-11-04T20:38:04.705846Z",
     "start_time": "2023-11-04T20:38:02.797726Z"
    },
    "collapsed": false
   },
   "outputs": [],
   "source": [
    "# Set a z-score threshold for anomaly detection\n",
    "z_score_threshold = 2.0\n",
    "data['anomaly_z_score'] = data.z_score.apply(lambda x: 1 if abs(x) > z_score_threshold else 0)\n",
    "\n",
    "# Plot anomalies\n",
    "plt.figure(figsize=(12, 6))\n",
    "data.plot(\n",
    "    y='accidents_count', label='Time Series',\n",
    "    color=deep_colors[0], alpha=.7\n",
    ")\n",
    "plt.scatter(\n",
    "    data.loc[data.anomaly_z_score == 1].index, \n",
    "    data.loc[data.anomaly_z_score == 1].accidents_count, \n",
    "    color=deep_colors[2], label='Anomalies', alpha=.4,\n",
    "    marker='.'\n",
    ")\n",
    "plt.title('Anomalies Detected using Z-Score')\n",
    "plt.xlabel('Date')\n",
    "plt.ylabel('Accidents Count')\n",
    "plt.legend()\n",
    "plt.show()"
   ]
  },
  {
   "cell_type": "markdown",
   "metadata": {},
   "source": [
    "There are 16k+ anomaly points in the dataset, which represent 4% of the accidents:"
   ]
  },
  {
   "cell_type": "code",
   "execution_count": null,
   "metadata": {},
   "outputs": [],
   "source": [
    "data.anomaly_z_score.sum(), data.shape[0], "
   ]
  },
  {
   "cell_type": "code",
   "execution_count": null,
   "metadata": {},
   "outputs": [],
   "source": [
    "data.anomaly_z_score.sum() / data.shape[0]"
   ]
  },
  {
   "cell_type": "markdown",
   "metadata": {},
   "source": [
    "Anomaly Detection Using Moving Average:\n",
    "\n",
    "We'll use a rolling average and identify anomalies when data points deviate significantly from the moving average."
   ]
  },
  {
   "cell_type": "code",
   "execution_count": null,
   "metadata": {},
   "outputs": [],
   "source": [
    "data = pd.DataFrame({'accidents_count': df.index.value_counts(), 'z_score':stats.zscore(df.index.value_counts().values)})\n",
    "data.head()"
   ]
  },
  {
   "cell_type": "code",
   "execution_count": null,
   "metadata": {},
   "outputs": [],
   "source": [
    "window_size = 7  # Adjust the window size as needed\n",
    "\n",
    "# Calculate the moving average\n",
    "data['moving_avg'] = data.accidents_count.rolling(window=window_size).mean()\n",
    "\n",
    "# Set a threshold for anomaly detection\n",
    "moving_avg_threshold = 0.5  # Adjust the threshold as needed\n",
    "data['anomaly_moving_avg'] = data.accidents_count.sub(\n",
    "    data.moving_avg\n",
    "    ).abs().apply(lambda x: 1 if x > moving_avg_threshold else 0)\n",
    "\n",
    "# Plot anomalies\n",
    "fig, ax = plt.subplots(figsize=(12, 6))\n",
    "data.plot(\n",
    "    y='accidents_count', label='Time Series',\n",
    "    color=deep_colors[0], alpha=.8, ax =ax\n",
    "    )\n",
    "data.plot(\n",
    "    y='moving_avg', label='Moving Average', linestyle='--', \n",
    "    color=deep_colors[1], alpha=.6, ax =ax\n",
    "    )\n",
    "ax.scatter(\n",
    "    data.loc[data.anomaly_moving_avg == 1].index, \n",
    "    data.loc[data.anomaly_moving_avg == 1].accidents_count, \n",
    "    color=deep_colors[2], label='Anomalies', alpha=.5\n",
    "    )\n",
    "plt.title('Anomalies Detected using Moving Average')\n",
    "plt.xlabel('Date')\n",
    "plt.ylabel('Accidents Count')\n",
    "plt.legend()\n",
    "plt.show()"
   ]
  },
  {
   "cell_type": "markdown",
   "metadata": {},
   "source": [
    "Exponential Smoothing:\n",
    "\n",
    "We'll use exponential smoothing to create a smoothed version of the time series and identify anomalies when data points deviate from the smoothed values."
   ]
  },
  {
   "cell_type": "code",
   "execution_count": null,
   "metadata": {},
   "outputs": [],
   "source": [
    "# Apply exponential smoothing\n",
    "data2 = data.asfreq('D').bfill()\n",
    "alpha = 0.2  # Smoothing parameter\n",
    "data2['exponential_smoothed'] = ExponentialSmoothing(\n",
    "    data2.accidents_count, trend='add', seasonal='add',\n",
    "    seasonal_periods=7, initialization_method='estimated', \n",
    "    freq='D'\n",
    "    ).fit(smoothing_level=alpha).fittedvalues\n",
    "\n",
    "# Set a threshold for anomaly detection\n",
    "exp_smoothing_threshold = 0.5\n",
    "data2['anomaly_exp_smoothing'] = data2.accidents_count.sub(\n",
    "    data2.exponential_smoothed\n",
    "    ).abs().apply(lambda x: 1 if x > exp_smoothing_threshold else 0)\n",
    "\n",
    "# Plot anomalies\n",
    "fig, ax = plt.subplots(figsize=(12, 6))\n",
    "data2.plot(\n",
    "    y='accidents_count', label='Exponential Smoothing',\n",
    "    color=deep_colors[0], alpha=.8, ax=ax\n",
    "    )\n",
    "data2.plot(\n",
    "    y='exponential_smoothed', label='Time Series', linestyle='--',\n",
    "    color=deep_colors[1], alpha=.6, ax=ax\n",
    "    )\n",
    "ax.scatter(\n",
    "    data2.loc[data2.anomaly_exp_smoothing == 1].index, \n",
    "    data2.loc[data2.anomaly_exp_smoothing == 1].accidents_count, \n",
    "    color=deep_colors[2], label='Anomalies', alpha=.4, marker='.'\n",
    "    )\n",
    "plt.title('Anomalies Detected using Exponential Smoothing')\n",
    "plt.xlabel('Date')\n",
    "plt.ylabel('Accidents Count')\n",
    "plt.legend()\n",
    "plt.show()\n"
   ]
  },
  {
   "cell_type": "markdown",
   "id": "1b7bbc88c131ea00",
   "metadata": {
    "collapsed": false
   },
   "source": [
    "4. Accident Trends over time\n",
    "\n",
    "Plotting Time Series of Accidents by Borough"
   ]
  },
  {
   "cell_type": "code",
   "execution_count": null,
   "id": "f3ec54f9cbc54f87",
   "metadata": {
    "ExecuteTime": {
     "end_time": "2023-11-04T09:30:26.411535Z",
     "start_time": "2023-11-04T09:30:21.526456Z"
    },
    "collapsed": false
   },
   "outputs": [],
   "source": [
    "data = df.groupby([df.index, 'borough']).collision_id.size().unstack().fillna(0)\n",
    "\n",
    "data.plot(\n",
    "    figsize=(16, 8), title=\"Time Series of Accidents by Boroughs in NYC\", color=deep_colors[:5]\n",
    ")\n",
    "plt.xlabel(\"Date\");"
   ]
  },
  {
   "cell_type": "markdown",
   "metadata": {},
   "source": [
    "Trend for Average Counts shows similar trends across boroughs. Trend seems to tend downwards after a sharp spike in 2016, although Manhattan & Queens saw more significant drops than others in 2020."
   ]
  },
  {
   "cell_type": "code",
   "execution_count": null,
   "id": "5d3606970fbe9f16",
   "metadata": {
    "ExecuteTime": {
     "end_time": "2023-11-04T16:27:07.713279Z",
     "start_time": "2023-11-04T16:27:04.355640Z"
    },
    "collapsed": false
   },
   "outputs": [],
   "source": [
    "monthly_mean = data.resample('M').mean().interpolate()\n",
    "\n",
    "plt.figure(figsize=(7, 5))\n",
    "monthly_mean.plot(\n",
    "    linestyle='--', color=deep_colors[:5],\n",
    "    title='Average Accident Counts Over Time',\n",
    "    xlabel='Date', ylabel='Average Car Price'\n",
    ")\n",
    "plt.xticks(rotation=45)\n",
    "plt.legend(title='Borough')\n",
    "plt.show()"
   ]
  },
  {
   "cell_type": "markdown",
   "id": "9718a8cd3279d993",
   "metadata": {
    "collapsed": false
   },
   "source": [
    "**Numeric Distributions**\n",
    "\n",
    "5. How many victims on average per accident?\n",
    "6. Registration Year for cars in accidents."
   ]
  },
  {
   "cell_type": "code",
   "execution_count": null,
   "metadata": {},
   "outputs": [],
   "source": [
    "victim_cols = [\n",
    "    'number_of_persons_injured', 'number_of_persons_killed', \n",
    "    'number_of_pedestrians_injured', 'number_of_pedestrians_killed', \n",
    "    'number_of_cyclist_injured', 'number_of_cyclist_killed',\n",
    "    'number_of_motorist_injured', 'number_of_motorist_killed'\n",
    "]"
   ]
  },
  {
   "cell_type": "code",
   "execution_count": null,
   "metadata": {},
   "outputs": [],
   "source": [
    "df[victim_cols].plot(\n",
    "    subplots=True, layout=(4, 2), kind='hist', bins=50,\n",
    "    figsize=(10, 10), title='Distribution of Victims Features'\n",
    ");"
   ]
  },
  {
   "cell_type": "code",
   "execution_count": null,
   "metadata": {},
   "outputs": [],
   "source": [
    "plt.figure(figsize=(12, 8))\n",
    "\n",
    "plt.subplot(121)\n",
    "df.vehicle_year.plot(kind='hist', bins=50, xlabel='Vehicle Registration Year')\n",
    "\n",
    "plt.subplot(122)\n",
    "df.vehicle_year.plot(kind='box', ylabel='Vehicle Registration Year')\n",
    "\n",
    "plt.suptitle('Distribution of Vehicle Registration Year in NYC Accidents')\n",
    "plt.show()"
   ]
  },
  {
   "cell_type": "code",
   "execution_count": null,
   "metadata": {},
   "outputs": [],
   "source": [
    "sns.kdeplot(\n",
    "    data=df.assign(\n",
    "        accident_year=lambda x: x.index.year\n",
    "        )[['accident_year', 'vehicle_year']],\n",
    "    color=deep_colors[-2:], alpha=.6,\n",
    "    legend=True\n",
    ")\n",
    "\n",
    "plt.title('Density Distribution of Registration vs. Accident Years')\n",
    "plt.show()"
   ]
  },
  {
   "cell_type": "markdown",
   "metadata": {},
   "source": [
    "**Likelihood Analysis**\n",
    "\n",
    "7. Using vehicle year, what is the likelihood that an accident will result in injury or death?"
   ]
  },
  {
   "cell_type": "code",
   "execution_count": null,
   "metadata": {},
   "outputs": [],
   "source": [
    "data = df[['vehicle_year', 'number_of_persons_injured', 'number_of_persons_killed']]\n",
    "data.sample(5)"
   ]
  },
  {
   "cell_type": "markdown",
   "metadata": {},
   "source": [
    "12% of the dataset does not have information for vehicle year. We'll replace it with the average:"
   ]
  },
  {
   "cell_type": "code",
   "execution_count": null,
   "metadata": {},
   "outputs": [],
   "source": [
    "df.vehicle_year.isnull().sum() / df.shape[0]"
   ]
  },
  {
   "cell_type": "code",
   "execution_count": null,
   "metadata": {},
   "outputs": [],
   "source": [
    "df.vehicle_year.describe()"
   ]
  },
  {
   "cell_type": "markdown",
   "metadata": {},
   "source": [
    "If we replace the missing values with the average, we have a new mode, but otherwise, the spread is not oo different. We'll go ahead and apply the replacement."
   ]
  },
  {
   "cell_type": "code",
   "execution_count": null,
   "metadata": {},
   "outputs": [],
   "source": [
    "plt.figure(figsize=(10, 6))\n",
    "\n",
    "plt.subplot(121)\n",
    "df.vehicle_year.plot(\n",
    "    kind='hist', bins=50, \n",
    "    xlabel='Vehicle Registration Year',\n",
    "    title='Vehicle Year Distribution'\n",
    "    )\n",
    "\n",
    "plt.subplot(122)\n",
    "df.vehicle_year.fillna(int(df.vehicle_year.mean())).astype(float).plot(\n",
    "    kind='hist', bins=50, \n",
    "    xlabel='Vehicle Registration Year',\n",
    "    title='Vehicle Year Distribution\\nwith NaNs filled with Mean',\n",
    "    ylabel=''\n",
    ")\n",
    "\n",
    "plt.suptitle('Distribution of Vehicle Registration Year in NYC Accidents')\n",
    "plt.show()"
   ]
  },
  {
   "cell_type": "code",
   "execution_count": null,
   "metadata": {},
   "outputs": [],
   "source": [
    "data['vehicle_year'] = data['vehicle_year'].fillna(int(data.vehicle_year.mean())).astype(float)\n",
    "data.head()"
   ]
  },
  {
   "cell_type": "code",
   "execution_count": null,
   "metadata": {},
   "outputs": [],
   "source": [
    "grouped = data.groupby(by='vehicle_year')[\n",
    "    ['number_of_persons_injured', 'number_of_persons_killed']\n",
    "    ].agg(['mean', 'median', 'sum'])\n",
    "grouped"
   ]
  },
  {
   "cell_type": "markdown",
   "metadata": {},
   "source": [
    "How does the distribution of accident severity vary by vehicle year?"
   ]
  },
  {
   "cell_type": "code",
   "execution_count": null,
   "metadata": {},
   "outputs": [],
   "source": [
    "plt.figure(figsize=(10, 6))\n",
    "\n",
    "plt.subplot(121)\n",
    "grouped[('number_of_persons_injured', 'mean')].plot(\n",
    "    xlabel='Vehicle Year', color=deep_colors[4], legend=True, \n",
    "    label='Avg Num Persons Injured'\n",
    "    )\n",
    "grouped[('number_of_persons_killed', 'mean')].plot(\n",
    "    xlabel='Vehicle Year', color=deep_colors[2], legend=True,\n",
    "    label='Avg Num Persons Killed',\n",
    "    title='Average Number of People Injured & Killed \\nby Vehicle Year'\n",
    "    )\n",
    "\n",
    "plt.subplot(122)\n",
    "grouped[('number_of_persons_injured', 'sum')].plot(\n",
    "    xlabel='Vehicle Year', color=deep_colors[4], legend=True, \n",
    "    label='Total Num Persons Injured'\n",
    "    )\n",
    "grouped[('number_of_persons_killed', 'sum')].plot(\n",
    "    xlabel='Vehicle Year', color=deep_colors[2], legend=True,\n",
    "    label='Total Num Persons Killed',\n",
    "    title='total Number of People Injured & Killed \\nby Vehicle Year'\n",
    "    )\n",
    "\n",
    "plt.show()"
   ]
  },
  {
   "cell_type": "markdown",
   "metadata": {},
   "source": [
    "Let's test the hypotheses presented in these charts:"
   ]
  },
  {
   "cell_type": "code",
   "execution_count": null,
   "metadata": {},
   "outputs": [],
   "source": [
    "formula = 'number_of_persons_injured ~ vehicle_year'\n",
    "model = smf.ols(formula, data=data)\n",
    "results = model.fit()\n",
    "print(results.summary())"
   ]
  },
  {
   "cell_type": "code",
   "execution_count": null,
   "metadata": {},
   "outputs": [],
   "source": [
    "formula = 'number_of_persons_injured ~ vehicle_year'\n",
    "model = smf.ols(formula, data=data.assign(\n",
    "    vehicle_year=lambda x: x.vehicle_year.astype(str)\n",
    "))\n",
    "results = model.fit()\n",
    "print(results.summary())"
   ]
  },
  {
   "cell_type": "markdown",
   "metadata": {},
   "source": [
    "**Text Analysis**\n",
    "\n",
    "8. Reasons for accidents."
   ]
  },
  {
   "cell_type": "code",
   "execution_count": null,
   "metadata": {},
   "outputs": [],
   "source": [
    "text = ' '.join(df['contributing_factor_1'].dropna().astype(str))\n",
    "wordcloud = WordCloud(width=800, height=400, background_color='white').generate(text)\n",
    "\n",
    "plt.figure(figsize=(10, 5))\n",
    "plt.imshow(wordcloud, interpolation='bilinear')\n",
    "plt.axis(\"off\")\n",
    "plt.title(\"Word Cloud of Factors Contributing to Accidents\")\n",
    "plt.show()"
   ]
  },
  {
   "cell_type": "code",
   "execution_count": null,
   "metadata": {},
   "outputs": [],
   "source": [
    "text = ' '.join(df['contributing_factor_2'].dropna().astype(str))\n",
    "wordcloud = WordCloud(width=800, height=400, background_color='white').generate(text)\n",
    "\n",
    "plt.figure(figsize=(10, 5))\n",
    "plt.imshow(wordcloud, interpolation='bilinear')\n",
    "plt.axis(\"off\")\n",
    "plt.title(\"Word Cloud of 2nd Factor Contributing to Accidents\")\n",
    "plt.show()"
   ]
  },
  {
   "cell_type": "markdown",
   "metadata": {},
   "source": [
    "**Most Popular Accident Intersections**\n",
    "\n",
    "9. Which street corner / intersection is prone to accidents?\n",
    "\n",
    "Most accidents occur around Flatbush Avenue Extension & Tillary Street (3708) in Brooklyn. This intersection is home to 2 hotels and a park. It has a traffic light and a speed limit of 25mph. The intersection is featured in a legal article on [dangerous intersections](https://www.thebarnesfirm.com/tillary-st-flatbush-ave-dangerous-intersections/#:~:text=drivers%20at%20risk.-,Speed,at%20risk%20of%20an%20accident).\n",
    "\n",
    "Located just off I-278, this intersection has a lot of traffic coming from and going to the high-speed interstate; but these are surface streets with a 25mph speed limit. With nearby parks and hotels, this intersection also features a lot of foot traffic, making it even more dangerous for pedestrians crossing the street.\n",
    "\n",
    "Since much of the traffic here is coming from the Manhattan Bridge or Interstate 278, many of the vehicles here may be moving much faster than what the speed limit permits.\n",
    "\n",
    "The Bronx Borough has the majority of accident intersections."
   ]
  },
  {
   "cell_type": "code",
   "execution_count": null,
   "metadata": {},
   "outputs": [],
   "source": [
    "combinations = df.groupby(['on_street_name', 'cross_street_name', 'borough']).size().reset_index(name='Count')\n",
    "\n",
    "most_common = combinations.sort_values(\n",
    "    by='Count', ascending=False\n",
    ").assign(\n",
    "    accident_intersection=lambda x: x.on_street_name + \" - \" +  x.cross_street_name,\n",
    ").reset_index(drop=True)[\n",
    "    ['accident_intersection', 'borough', 'Count']\n",
    "]\n",
    "\n",
    "top10 = most_common.head(10)\n",
    "top10"
   ]
  },
  {
   "cell_type": "code",
   "execution_count": null,
   "metadata": {},
   "outputs": [],
   "source": [
    "top10.borough.value_counts()"
   ]
  },
  {
   "cell_type": "code",
   "execution_count": null,
   "metadata": {},
   "outputs": [],
   "source": [
    "cmap = plt.get_cmap('Greens')\n",
    "normalize = plt.Normalize(min(top10.Count), max(top10.Count))\n",
    "\n",
    "plt.figure(figsize=(10, 8))\n",
    "plt.barh(\n",
    "    top10.accident_intersection,\n",
    "    top10.Count,\n",
    "    color=cmap(normalize(top10.Count)), edgecolor='white'\n",
    ")\n",
    "for i, v in enumerate(top10.Count.tolist()):\n",
    "    plt.text(v + 0.5, i, str(v), color='black', va='center')\n",
    "\n",
    "\n",
    "sm = plt.cm.ScalarMappable(cmap=cmap, norm=normalize)\n",
    "sm.set_array([])\n",
    "\n",
    "plt.ylabel('Street Intersection')\n",
    "plt.xlabel('Accidents Count')\n",
    "plt.title('Most Popular Accident Intersections')\n",
    "plt.gca().invert_yaxis()\n",
    "plt.show()"
   ]
  },
  {
   "cell_type": "markdown",
   "metadata": {},
   "source": [
    "**Categorical Distributions**\n",
    "\n",
    "10. Gender split for Accidents.\n",
    "11. Which vehicles contribute the most to accidents?\n",
    "12. Driver Licence jurisdictions and accidents.\n",
    "13. Travel Direction and accidents.\n",
    "14. Person Injury"
   ]
  },
  {
   "cell_type": "code",
   "execution_count": null,
   "metadata": {},
   "outputs": [],
   "source": [
    "df.person_injury.value_counts(dropna=False)"
   ]
  },
  {
   "cell_type": "code",
   "execution_count": null,
   "metadata": {},
   "outputs": [],
   "source": [
    "df[['person_type', 'person_injury', 'person_sex', 'person_age', 'driver_sex']].head(20)"
   ]
  },
  {
   "cell_type": "code",
   "execution_count": null,
   "metadata": {},
   "outputs": [],
   "source": [
    "df.columns"
   ]
  },
  {
   "cell_type": "code",
   "execution_count": null,
   "metadata": {},
   "outputs": [],
   "source": [
    "df.travel_direction.value_counts(dropna=False)"
   ]
  },
  {
   "cell_type": "markdown",
   "metadata": {},
   "source": [
    "**Variable Relationships**\n",
    "\n",
    "13. Injured vs Killed stats\n",
    "14. Relationship between Complainant and person injured\n",
    "15. Vehicle Damage vs Vehicle Make, Vehicle Type, Registration Year, Driver Sex, Point of Impact and Travel Direction\n"
   ]
  },
  {
   "cell_type": "code",
   "execution_count": null,
   "metadata": {},
   "outputs": [],
   "source": []
  },
  {
   "cell_type": "markdown",
   "metadata": {},
   "source": [
    "**Supplemental Analysis**\n",
    "\n",
    "16. Understanding these features - Ejection, Emotional status, Bodily injury, Position in vehicle, Safety equipment, Ped role"
   ]
  },
  {
   "cell_type": "code",
   "execution_count": null,
   "metadata": {},
   "outputs": [],
   "source": []
  },
  {
   "cell_type": "markdown",
   "metadata": {},
   "source": [
    "**Conclusion & Recommendations**\n",
    "\n",
    "17. Provide recommendations to reduce the occurrence of accidents"
   ]
  },
  {
   "cell_type": "code",
   "execution_count": null,
   "metadata": {},
   "outputs": [],
   "source": []
  }
 ],
 "metadata": {
  "kernelspec": {
   "display_name": "Python 3",
   "language": "python",
   "name": "python3"
  },
  "language_info": {
   "codemirror_mode": {
    "name": "ipython",
    "version": 3
   },
   "file_extension": ".py",
   "mimetype": "text/x-python",
   "name": "python",
   "nbconvert_exporter": "python",
   "pygments_lexer": "ipython3",
   "version": "3.10.13"
  }
 },
 "nbformat": 4,
 "nbformat_minor": 5
}
